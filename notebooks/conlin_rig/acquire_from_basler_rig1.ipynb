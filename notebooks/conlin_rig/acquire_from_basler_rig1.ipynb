{
 "cells": [
  {
   "cell_type": "code",
   "execution_count": 1,
   "metadata": {},
   "outputs": [
    {
     "name": "stderr",
     "output_type": "stream",
     "text": [
      "/home/dattalab1/Desktop/azure_and_basler/multicamera_acquisition/multicamera_acquisition/interfaces/arduino.py:4: TqdmExperimentalWarning: Using `tqdm.autonotebook.tqdm` in notebook mode. Use `tqdm.tqdm` instead to force console mode (e.g. in jupyter console)\n",
      "  from tqdm.autonotebook import tqdm\n"
     ]
    }
   ],
   "source": [
    "from multicamera_acquisition.interfaces.arduino import (\n",
    "    packIntAsLong,\n",
    "    wait_for_serial_confirmation,\n",
    ")\n",
    "import struct\n",
    "import time\n",
    "import numpy as np\n",
    "\n",
    "from multicamera_acquisition.interfaces import get_camera\n",
    "from multicamera_acquisition.video_io import write_frame\n",
    "from multicamera_acquisition.paths import ensure_dir\n",
    "from multicamera_acquisition.acquisition import acquire_video\n",
    "\n",
    "from pypylon import pylon"
   ]
  },
  {
   "cell_type": "code",
   "execution_count": 2,
   "metadata": {},
   "outputs": [],
   "source": [
    "def packIntAsLong(value):\n",
    "    \"\"\"Packs a python 4 byte integer to an arduino long\"\"\"\n",
    "    return struct.pack('i', value)\n",
    "\n",
    "    \n",
    "def get_timing_params(duration, framerate, exposure_time, buffer=50):\n",
    "    \n",
    "    inv_framerate = int(1e6/framerate)\n",
    "    num_cycles = int(duration * framerate / 2)\n",
    "    \n",
    "    params = (\n",
    "        num_cycles,\n",
    "        exposure_time,\n",
    "        inv_framerate,\n",
    "    )\n",
    "    \n",
    "    return params\n",
    "    \n"
   ]
  },
  {
   "cell_type": "code",
   "execution_count": 3,
   "metadata": {},
   "outputs": [
    {
     "name": "stdout",
     "output_type": "stream",
     "text": [
      "Filesystem      Size  Used Avail Use% Mounted on\r\n",
      "/dev/sda1       916G  127G  743G  15% /\r\n"
     ]
    }
   ],
   "source": [
    "! df -h ."
   ]
  },
  {
   "cell_type": "markdown",
   "metadata": {},
   "source": [
    "## Set up the camera"
   ]
  },
  {
   "cell_type": "code",
   "execution_count": 4,
   "metadata": {},
   "outputs": [],
   "source": [
    "# cam = get_camera(brand='pylon', exposure_time=1000, readout_mode='Normal')\n",
    "\n",
    "\n",
    "recording_duration_s = 60*20\n",
    "save_location = '/home/dattalab1/Desktop/DOI/3_09/'\n",
    "\n",
    "camera_list = [\n",
    "    {'name': 'top',    'serial': 24600953, 'brand':'basler', 'gain': 10, 'exposure_time':1100, \"display\":False},\n",
    "]"
   ]
  },
  {
   "cell_type": "code",
   "execution_count": 5,
   "metadata": {},
   "outputs": [],
   "source": [
    "# import subprocess\n",
    "# subprocess.run('rm -r /home/dattalab1/Desktop/azure_and_basler/notebooks/data/test',shell=True)\n",
    "# subprocess.run('rm -r /home/dattalab1/Desktop/azure_and_basler/notebooks/data/Untitled',shell=True)"
   ]
  },
  {
   "cell_type": "code",
   "execution_count": null,
   "metadata": {
    "scrolled": true
   },
   "outputs": [
    {
     "name": "stdout",
     "output_type": "stream",
     "text": [
      "Using serial port /dev/ttyACM2\n",
      "36000\n"
     ]
    },
    {
     "name": "stderr",
     "output_type": "stream",
     "text": [
      "/home/dattalab1/Desktop/azure_and_basler/multicamera_acquisition/multicamera_acquisition/interfaces/arduino.py:34: UserWarning: PySerial: \"Start\" confirmation expected, got \"Waiting...\"\". Trying again.\n",
      "  warnings.warn(\n",
      "/home/dattalab1/Desktop/azure_and_basler/multicamera_acquisition/multicamera_acquisition/interfaces/arduino.py:34: UserWarning: PySerial: \"Start\" confirmation expected, got \"0\"\". Trying again.\n",
      "  warnings.warn(\n"
     ]
    },
    {
     "name": "stdout",
     "output_type": "stream",
     "text": [
      "Confirmation recieved: Start\n"
     ]
    },
    {
     "name": "stderr",
     "output_type": "stream",
     "text": [
      "\r",
      "recording progress (s):   0%|                          | 0/1200 [00:00<?, ?it/s]"
     ]
    },
    {
     "name": "stdout",
     "output_type": "stream",
     "text": [
      "Num cycles:36000\n",
      "670,8545,16528,24861,\n"
     ]
    },
    {
     "name": "stderr",
     "output_type": "stream",
     "text": [
      "recording progress (s):  98%|██████████████▊| 1181/1200 [19:53<00:37,  1.97s/it]"
     ]
    },
    {
     "name": "stdout",
     "output_type": "stream",
     "text": [
      "Finished\n",
      "End Acquisition\n"
     ]
    },
    {
     "name": "stderr",
     "output_type": "stream",
     "text": [
      "recording progress (s):  98%|██████████████▊| 1181/1200 [20:07<00:19,  1.02s/it]\n"
     ]
    }
   ],
   "source": [
    "\n",
    "acquire_video(\n",
    "    save_location,\n",
    "    camera_list,\n",
    "    azure_framerate = 30,  # azure's frame rate in this case.\n",
    "    basler_framerate=120,\n",
    "    recording_duration_s = recording_duration_s,\n",
    "    serial_timeout_duration_s=0.1,\n",
    "    overwrite=True,\n",
    "    append_datetime=False,\n",
    "    verbose=True\n",
    ")"
   ]
  },
  {
   "cell_type": "code",
   "execution_count": null,
   "metadata": {},
   "outputs": [],
   "source": []
  },
  {
   "cell_type": "code",
   "execution_count": null,
   "metadata": {},
   "outputs": [],
   "source": []
  },
  {
   "cell_type": "markdown",
   "metadata": {},
   "source": [
    "## DEBUG: simple test of communication with arduino"
   ]
  },
  {
   "cell_type": "code",
   "execution_count": null,
   "metadata": {},
   "outputs": [],
   "source": [
    "import serial\n",
    "x = 5000\n",
    "with serial.Serial(port='/dev/ttyACM1', baudrate=9600) as ser:\n",
    "    if ser.isOpen():\n",
    "\n",
    "        # Read data from the serial device\n",
    "        line = ser.readline()  # Read a line of data\n",
    "        print(f\"Received line: {line.decode('utf-8')}\")\n",
    "        \n",
    "        ser.write(x.to_bytes(4, 'little'))\n",
    "        \n",
    "        wait_for_serial_confirmation(\n",
    "            ser, \n",
    "            'Start', \n",
    "            recording_duration=5, \n",
    "            timeout_duration_s=0.1\n",
    "        )\n",
    "        \n",
    "    else:\n",
    "        print(\"Failed to open serial connection.\")"
   ]
  },
  {
   "cell_type": "code",
   "execution_count": null,
   "metadata": {},
   "outputs": [],
   "source": [
    "with serial.Serial(port='/dev/ttyACM1', baudrate=9600) as ser:\n",
    "    if ser.isOpen():\n",
    "        \n",
    "        ser.write(x.to_bytes(4, 'big'))\n",
    "        wait_for_serial_confirmation(\n",
    "            ser, \n",
    "            'Breaking!', \n",
    "            recording_duration=5, \n",
    "            timeout_duration_s=0.1\n",
    "        )"
   ]
  },
  {
   "cell_type": "code",
   "execution_count": null,
   "metadata": {},
   "outputs": [],
   "source": []
  },
  {
   "cell_type": "code",
   "execution_count": null,
   "metadata": {},
   "outputs": [],
   "source": []
  },
  {
   "cell_type": "code",
   "execution_count": null,
   "metadata": {},
   "outputs": [],
   "source": []
  }
 ],
 "metadata": {
  "kernelspec": {
   "display_name": "k4a",
   "language": "python",
   "name": "k4a"
  },
  "language_info": {
   "codemirror_mode": {
    "name": "ipython",
    "version": 3
   },
   "file_extension": ".py",
   "mimetype": "text/x-python",
   "name": "python",
   "nbconvert_exporter": "python",
   "pygments_lexer": "ipython3",
   "version": "3.8.13"
  },
  "vscode": {
   "interpreter": {
    "hash": "c6042100894abde48f34597d4a2bff7f3009141664e742af4487c9ba5df15db0"
   }
  }
 },
 "nbformat": 4,
 "nbformat_minor": 2
}
