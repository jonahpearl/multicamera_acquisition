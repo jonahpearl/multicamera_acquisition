{
 "cells": [
  {
   "cell_type": "code",
   "execution_count": 21,
   "id": "sought-jewelry",
   "metadata": {},
   "outputs": [],
   "source": [
    "import os\n",
    "import subprocess\n",
    "import numpy as np\n",
    "import tqdm\n",
    "import time\n",
    "import datetime\n",
    "\n",
    "#if you want to display images as you record\n",
    "import cv2\n",
    "import matplotlib.pyplot as plt\n",
    "\n",
    "from multiprocessing import Queue, Event\n",
    "\n",
    "from pyk4a import *\n",
    "from top_bottom_triggered.video_io import *\n",
    "from top_bottom_triggered.multicam_utils import *"
   ]
  },
  {
   "cell_type": "code",
   "execution_count": 22,
   "id": "2bb3d851",
   "metadata": {},
   "outputs": [
    {
     "ename": "IndexError",
     "evalue": "list index out of range",
     "output_type": "error",
     "traceback": [
      "\u001b[0;31m---------------------------------------------------------------------------\u001b[0m",
      "\u001b[0;31mIndexError\u001b[0m                                Traceback (most recent call last)",
      "Input \u001b[0;32mIn [22]\u001b[0m, in \u001b[0;36m<cell line: 3>\u001b[0;34m()\u001b[0m\n\u001b[1;32m      1\u001b[0m \u001b[38;5;28;01mimport\u001b[39;00m \u001b[38;5;21;01mglob\u001b[39;00m\n\u001b[0;32m----> 3\u001b[0m port \u001b[38;5;241m=\u001b[39m \u001b[43mglob\u001b[49m\u001b[38;5;241;43m.\u001b[39;49m\u001b[43mglob\u001b[49m\u001b[43m(\u001b[49m\u001b[38;5;124;43m\"\u001b[39;49m\u001b[38;5;124;43m/dev/ttyACM*0\u001b[39;49m\u001b[38;5;124;43m\"\u001b[39;49m\u001b[43m)\u001b[49m\u001b[43m[\u001b[49m\u001b[38;5;241;43m0\u001b[39;49m\u001b[43m]\u001b[49m\n\u001b[1;32m      4\u001b[0m \u001b[38;5;28mprint\u001b[39m(port)\n",
      "\u001b[0;31mIndexError\u001b[0m: list index out of range"
     ]
    }
   ],
   "source": [
    "import glob\n",
    "\n",
    "port = glob.glob(\"/dev/ttyACM*0\")[0]\n",
    "print(port)"
   ]
  },
  {
   "cell_type": "markdown",
   "id": "c0b45b49",
   "metadata": {},
   "source": [
    "# Setup"
   ]
  },
  {
   "cell_type": "code",
   "execution_count": 23,
   "id": "simplified-hypothetical",
   "metadata": {
    "scrolled": true
   },
   "outputs": [],
   "source": [
    "# set recording params\n",
    "name = '3_09'\n",
    "file_prefix = f'/home/dattalab1/Desktop/DOI/{name}/{name}'"
   ]
  },
  {
   "cell_type": "code",
   "execution_count": 24,
   "id": "752d15b2",
   "metadata": {},
   "outputs": [
    {
     "name": "stdout",
     "output_type": "stream",
     "text": [
      "Index:0\tSerial:000438621712\tColor:1.6.110\tDepth:1.6.80\n",
      "{'top': 0}\n"
     ]
    }
   ],
   "source": [
    "serial_numbers = {\n",
    "    'top': '000438621712'\n",
    "}\n",
    "\n",
    "recording_length = int(60*20)\n",
    "\n",
    "camera_indexes = get_camera_indexes(serial_numbers)\n",
    "print(camera_indexes)"
   ]
  },
  {
   "cell_type": "code",
   "execution_count": 25,
   "id": "651b90e2",
   "metadata": {},
   "outputs": [],
   "source": [
    "record_processes = {}\n",
    "sync_delay,sync_delay_step = 0,500\n",
    "interrupt_queues = {camera: Queue() for camera,ix in camera_indexes.items()}\n",
    "trigger_started_event = Event()\n",
    "\n",
    "for camera,ix in camera_indexes.items():\n",
    "    sync_delay += sync_delay_step\n",
    "    k4a = PyK4A(Config(color_resolution=ColorResolution.OFF,\n",
    "                       depth_mode=DepthMode.NFOV_UNBINNED,\n",
    "                       synchronized_images_only=False,\n",
    "                       wired_sync_mode=WiredSyncMode.SUBORDINATE,\n",
    "                       subordinate_delay_off_master_usec=sync_delay), device_id=ix)\n",
    "\n",
    "    p = Process(target=capture_from_azure, \n",
    "                args=(k4a, file_prefix+'.'+camera ,recording_length+5),\n",
    "                kwargs={\n",
    "                    'display_time': True,\n",
    "                    'display_frames': True,\n",
    "                    'externally_triggered': True,\n",
    "                    'trigger_started_event': trigger_started_event,\n",
    "                    'interrupt_queue': interrupt_queues[camera]\n",
    "                })\n",
    "\n",
    "    record_processes[camera] = p\n",
    "\n",
    "    "
   ]
  },
  {
   "cell_type": "markdown",
   "id": "6e524e73",
   "metadata": {},
   "source": [
    "## Run this cell before you record!"
   ]
  },
  {
   "cell_type": "code",
   "execution_count": 26,
   "id": "919b3126",
   "metadata": {},
   "outputs": [
    {
     "name": "stdout",
     "output_type": "stream",
     "text": [
      "awaiting first capture (trigger)...\n",
      "Go ahead!\n",
      "First frame captured!\n"
     ]
    },
    {
     "name": "stderr",
     "output_type": "stream",
     "text": [
      "Qt: Session management error: None of the authentication protocols specified are supported\n"
     ]
    },
    {
     "name": "stdout",
     "output_type": "stream",
     "text": [
      "Recorded 1187 out of 1205 seconds\n",
      "Stopping process for 3_09.top\n",
      " - Frame rate =  29.50964544599243\n"
     ]
    }
   ],
   "source": [
    "# Prime the Azure   \n",
    "record_processes[camera].start()\n",
    "time.sleep(3)\n",
    "print('Go ahead!')"
   ]
  },
  {
   "cell_type": "code",
   "execution_count": 9,
   "id": "e3d73ea6",
   "metadata": {},
   "outputs": [
    {
     "data": {
      "text/plain": [
       "True"
      ]
     },
     "execution_count": 9,
     "metadata": {},
     "output_type": "execute_result"
    }
   ],
   "source": [
    "# DEBUG: run this to see if azures received triggers\n",
    "\n",
    "trigger_started_event.is_set()"
   ]
  },
  {
   "cell_type": "markdown",
   "id": "eedae73b",
   "metadata": {},
   "source": [
    "## Now run the basler script to start data acquisition..."
   ]
  },
  {
   "cell_type": "code",
   "execution_count": 27,
   "id": "358e9b91",
   "metadata": {},
   "outputs": [],
   "source": [
    "# empty space"
   ]
  },
  {
   "cell_type": "code",
   "execution_count": 28,
   "id": "1170ac0b",
   "metadata": {},
   "outputs": [],
   "source": [
    "# empty space"
   ]
  },
  {
   "cell_type": "code",
   "execution_count": 6,
   "id": "97a7ba83",
   "metadata": {},
   "outputs": [
    {
     "data": {
      "text/plain": [
       "False"
      ]
     },
     "execution_count": 6,
     "metadata": {},
     "output_type": "execute_result"
    },
    {
     "name": "stderr",
     "output_type": "stream",
     "text": [
      "libusb: error [udev_hotplug_event] ignoring udev action bind\n",
      "libusb: error [udev_hotplug_event] ignoring udev action bind\n"
     ]
    }
   ],
   "source": [
    "trigger_started_event.is_set()"
   ]
  },
  {
   "cell_type": "markdown",
   "id": "e3354605",
   "metadata": {},
   "source": [
    "## Run this cell when you're done"
   ]
  },
  {
   "cell_type": "code",
   "execution_count": 1,
   "id": "0c3e5ca4",
   "metadata": {
    "scrolled": true
   },
   "outputs": [
    {
     "ename": "NameError",
     "evalue": "name 'trigger_started_event' is not defined",
     "output_type": "error",
     "traceback": [
      "\u001b[0;31m---------------------------------------------------------------------------\u001b[0m",
      "\u001b[0;31mNameError\u001b[0m                                 Traceback (most recent call last)",
      "Input \u001b[0;32mIn [1]\u001b[0m, in \u001b[0;36m<cell line: 1>\u001b[0;34m()\u001b[0m\n\u001b[0;32m----> 1\u001b[0m \u001b[38;5;28;01mif\u001b[39;00m \u001b[43mtrigger_started_event\u001b[49m\u001b[38;5;241m.\u001b[39mis_set():\n\u001b[1;32m      2\u001b[0m     exit_codes \u001b[38;5;241m=\u001b[39m [p\u001b[38;5;241m.\u001b[39mjoin() \u001b[38;5;28;01mfor\u001b[39;00m p \u001b[38;5;129;01min\u001b[39;00m record_processes\u001b[38;5;241m.\u001b[39mvalues() \u001b[38;5;28;01mif\u001b[39;00m p\u001b[38;5;241m.\u001b[39mis_alive()]\n\u001b[1;32m      3\u001b[0m     \u001b[38;5;28mprint\u001b[39m(\u001b[38;5;124m'\u001b[39m\u001b[38;5;124mFinished saving recordings...\u001b[39m\u001b[38;5;124m'\u001b[39m)\n",
      "\u001b[0;31mNameError\u001b[0m: name 'trigger_started_event' is not defined"
     ]
    }
   ],
   "source": [
    "if trigger_started_event.is_set():\n",
    "    exit_codes = [p.join() for p in record_processes.values() if p.is_alive()]\n",
    "    print('Finished saving recordings...')"
   ]
  },
  {
   "cell_type": "code",
   "execution_count": 2,
   "id": "bd38d328",
   "metadata": {},
   "outputs": [
    {
     "ename": "NameError",
     "evalue": "name 'serial_numbers' is not defined",
     "output_type": "error",
     "traceback": [
      "\u001b[0;31m---------------------------------------------------------------------------\u001b[0m",
      "\u001b[0;31mNameError\u001b[0m                                 Traceback (most recent call last)",
      "Input \u001b[0;32mIn [2]\u001b[0m, in \u001b[0;36m<cell line: 1>\u001b[0;34m()\u001b[0m\n\u001b[0;32m----> 1\u001b[0m device_timestamps \u001b[38;5;241m=\u001b[39m [np\u001b[38;5;241m.\u001b[39mload(\u001b[38;5;124mf\u001b[39m\u001b[38;5;124m'\u001b[39m\u001b[38;5;132;01m{\u001b[39;00mfile_prefix\u001b[38;5;132;01m}\u001b[39;00m\u001b[38;5;124m.\u001b[39m\u001b[38;5;132;01m{\u001b[39;00mcam\u001b[38;5;132;01m}\u001b[39;00m\u001b[38;5;124m.device_timestamps.npy\u001b[39m\u001b[38;5;124m'\u001b[39m) \u001b[38;5;28;01mfor\u001b[39;00m cam \u001b[38;5;129;01min\u001b[39;00m \u001b[43mserial_numbers\u001b[49m]\n\u001b[1;32m      2\u001b[0m \u001b[38;5;28mprint\u001b[39m(\u001b[38;5;28mlen\u001b[39m(device_timestamps[\u001b[38;5;241m0\u001b[39m]))\n",
      "\u001b[0;31mNameError\u001b[0m: name 'serial_numbers' is not defined"
     ]
    }
   ],
   "source": [
    "device_timestamps = [np.load(f'{file_prefix}.{cam}.device_timestamps.npy') for cam in serial_numbers]\n",
    "print(len(device_timestamps[0]))"
   ]
  },
  {
   "cell_type": "code",
   "execution_count": null,
   "id": "49f36576",
   "metadata": {},
   "outputs": [],
   "source": []
  },
  {
   "cell_type": "markdown",
   "id": "a458b28d",
   "metadata": {},
   "source": [
    "## Debugging: run this cell to interrupt azures"
   ]
  },
  {
   "cell_type": "code",
   "execution_count": 19,
   "id": "e1d3aa24",
   "metadata": {},
   "outputs": [
    {
     "data": {
      "text/plain": [
       "['/dev/ttyACM2', '/dev/ttyACM1']"
      ]
     },
     "execution_count": 19,
     "metadata": {},
     "output_type": "execute_result"
    }
   ],
   "source": [
    "from glob import glob\n",
    "glob('/dev/ttyAC*')"
   ]
  },
  {
   "cell_type": "code",
   "execution_count": 20,
   "id": "b09b2a79",
   "metadata": {
    "scrolled": true
   },
   "outputs": [
    {
     "name": "stdout",
     "output_type": "stream",
     "text": [
      "halting azures\n",
      "Stopping sync device\n"
     ]
    }
   ],
   "source": [
    "stop_azures(trigger_started_event, interrupt_queues, '/dev/ttyACM2')\n"
   ]
  },
  {
   "cell_type": "code",
   "execution_count": null,
   "id": "3b12c7f2",
   "metadata": {},
   "outputs": [],
   "source": []
  },
  {
   "cell_type": "code",
   "execution_count": null,
   "id": "3ba9c0a6",
   "metadata": {},
   "outputs": [],
   "source": []
  },
  {
   "cell_type": "code",
   "execution_count": null,
   "id": "814fa645",
   "metadata": {
    "scrolled": true
   },
   "outputs": [],
   "source": [
    "plt.hist(np.diff(device_timestamps[0]),bins=10)\n",
    "plt.hist(np.diff(device_timestamps[1]),bins=10)"
   ]
  },
  {
   "cell_type": "code",
   "execution_count": null,
   "id": "524acd85",
   "metadata": {},
   "outputs": [],
   "source": [
    "sum(np.diff(device_timestamps[1])>40000)"
   ]
  },
  {
   "cell_type": "code",
   "execution_count": null,
   "id": "ad969b17",
   "metadata": {},
   "outputs": [],
   "source": [
    "sum(np.diff(device_timestamps[0])>40000)"
   ]
  },
  {
   "cell_type": "code",
   "execution_count": null,
   "id": "a18177f2",
   "metadata": {},
   "outputs": [],
   "source": [
    "#import matploli\n",
    "depth = read_frames(file_prefix+'.top.ir.avi', [101], pixel_format='gray16').squeeze()\n",
    "plt.imshow(depth, vmax=1000)\n",
    "\n"
   ]
  },
  {
   "cell_type": "code",
   "execution_count": null,
   "id": "570fc9ae",
   "metadata": {},
   "outputs": [],
   "source": []
  },
  {
   "cell_type": "code",
   "execution_count": null,
   "id": "1ede81e3",
   "metadata": {},
   "outputs": [],
   "source": []
  }
 ],
 "metadata": {
  "kernelspec": {
   "display_name": "k4a",
   "language": "python",
   "name": "k4a"
  },
  "language_info": {
   "codemirror_mode": {
    "name": "ipython",
    "version": 3
   },
   "file_extension": ".py",
   "mimetype": "text/x-python",
   "name": "python",
   "nbconvert_exporter": "python",
   "pygments_lexer": "ipython3",
   "version": "3.8.13"
  },
  "vscode": {
   "interpreter": {
    "hash": "75d32fa27c8161b1d2de83b9346aa8b01a84c2e0e20d2c3901091f115bbc66c7"
   }
  }
 },
 "nbformat": 4,
 "nbformat_minor": 5
}
